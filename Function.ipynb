{
  "nbformat": 4,
  "nbformat_minor": 0,
  "metadata": {
    "colab": {
      "provenance": []
    },
    "kernelspec": {
      "name": "python3",
      "display_name": "Python 3"
    },
    "language_info": {
      "name": "python"
    }
  },
  "cells": [
    {
      "cell_type": "markdown",
      "source": [
        "# Theory Section"
      ],
      "metadata": {
        "id": "AvMTvwWIcaDr"
      }
    },
    {
      "cell_type": "markdown",
      "source": [
        "\n",
        "Ques 1. What is the difference between a function and a method in Python?\n",
        "\n",
        "Ans.In Python, a function is ablock of code defined using the def keyword, which can be called independently, while a method is a function that belongs to a class and is called on an object. Functions do not require a self parameter, whereas methods usually take self as their first parameter to access instance attributes. Functions exist globally and can be used anywhere, while methods operate within a class and typically manipulate object data."
      ],
      "metadata": {
        "id": "7mDFwe9ic6gk"
      }
    },
    {
      "cell_type": "code",
      "source": [
        "def greet(name):\n",
        "    return f\"Hello, {name}!\"\n",
        "\n",
        "print(greet(\"Alice\"))  # Output: Hello, Alice!\n"
      ],
      "metadata": {
        "id": "eojU8KqYdaEs",
        "colab": {
          "base_uri": "https://localhost:8080/"
        },
        "outputId": "de63f238-bf77-49c4-824c-264f1853c4e2"
      },
      "execution_count": null,
      "outputs": [
        {
          "output_type": "stream",
          "name": "stdout",
          "text": [
            "Hello, Alice!\n"
          ]
        }
      ]
    },
    {
      "cell_type": "markdown",
      "source": [
        "Ques 2.. Explain the concept of function arguments and parameters in Python.\n",
        "\n",
        "Ans.In Python,parameters are variables listed in a function definition, while arguments are the actual values passed when calling the function. There are different types of arguments:\n",
        "*   Positional : Order of argument matter\n",
        "*   Keyword argument : Order doesen't matter\n",
        "*   Default Argument\n",
        "*   Variable length argument (*args)\n",
        "*   KeyWord Argument (**kwargs)\n"
      ],
      "metadata": {
        "id": "F_M2tF0Cdi1I"
      }
    },
    {
      "cell_type": "code",
      "source": [
        "def greet(name, age):\n",
        "    print(f\"Hello, {name}! You are {age} years old.\")\n",
        "\n",
        "greet(\"Alice\", 25)  # Output: Hello, Alice! You are 25 years old.\n"
      ],
      "metadata": {
        "id": "fLoK9JhseLyV",
        "colab": {
          "base_uri": "https://localhost:8080/"
        },
        "outputId": "36c8ffc1-7859-407d-b20d-547064482792"
      },
      "execution_count": null,
      "outputs": [
        {
          "output_type": "stream",
          "name": "stdout",
          "text": [
            "Hello, Alice! You are 25 years old.\n"
          ]
        }
      ]
    },
    {
      "cell_type": "markdown",
      "source": [
        "Ques 3.What are the different ways to define and call a function in Python?\n",
        "\n",
        "Ans.Regular Function: Defined using the def keyword and called using its name.\n",
        "\n"
      ],
      "metadata": {
        "id": "W-nJ3cHaeXFM"
      }
    },
    {
      "cell_type": "code",
      "source": [
        "def greet(name):\n",
        "    return f\"Hello, {name}!\"\n",
        "print(greet(\"Alice\"))  # Function call\n"
      ],
      "metadata": {
        "id": "YtAS21fOeqlU",
        "colab": {
          "base_uri": "https://localhost:8080/"
        },
        "outputId": "6f4d48a1-df84-44da-9f50-0e9cf6872d00"
      },
      "execution_count": null,
      "outputs": [
        {
          "output_type": "stream",
          "name": "stdout",
          "text": [
            "Hello, Alice!\n"
          ]
        }
      ]
    },
    {
      "cell_type": "markdown",
      "source": [
        "Function with Default Arguments: Provides default values if no argument is passed."
      ],
      "metadata": {
        "id": "PB5aHIuDev9B"
      }
    },
    {
      "cell_type": "code",
      "source": [
        "def greet(name=\"Guest\"):\n",
        "    return f\"Hello, {name}!\"\n",
        "print(greet())  # Output: Hello, Guest!\n"
      ],
      "metadata": {
        "id": "HIAS_I7ze1-a",
        "colab": {
          "base_uri": "https://localhost:8080/"
        },
        "outputId": "817ba7d1-2817-415f-ed5e-924c988f473e"
      },
      "execution_count": null,
      "outputs": [
        {
          "output_type": "stream",
          "name": "stdout",
          "text": [
            "Hello, Guest!\n"
          ]
        }
      ]
    },
    {
      "cell_type": "markdown",
      "source": [
        "Function with *args (Arbitrary Arguments): Accepts multiple positional arguments as a tuple.\n",
        "\n",
        "\n"
      ],
      "metadata": {
        "id": "mfyuJN2he4TX"
      }
    },
    {
      "cell_type": "code",
      "source": [
        "def add_numbers(*args):\n",
        "    return sum(args)\n",
        "print(add_numbers(2, 3, 5))  # Output: 10\n"
      ],
      "metadata": {
        "id": "2OUQyv51e9Ig",
        "colab": {
          "base_uri": "https://localhost:8080/"
        },
        "outputId": "03e2d049-b8a5-49ca-cadf-846fd4555632"
      },
      "execution_count": null,
      "outputs": [
        {
          "output_type": "stream",
          "name": "stdout",
          "text": [
            "10\n"
          ]
        }
      ]
    },
    {
      "cell_type": "markdown",
      "source": [
        "Function with **kwargs (Arbitrary Keyword Arguments): Accepts multiple named arguments as a dictionary.\n",
        "\n"
      ],
      "metadata": {
        "id": "IExgNr0hfDEH"
      }
    },
    {
      "cell_type": "code",
      "source": [
        "def person_details(**kwargs):\n",
        "    return kwargs\n",
        "print(person_details(name=\"Alice\", age=25))  # Output: {'name': 'Alice', 'age': 25}\n"
      ],
      "metadata": {
        "id": "Z29HbLYKfG9o",
        "colab": {
          "base_uri": "https://localhost:8080/"
        },
        "outputId": "59b33efc-b045-4b2c-c26c-54a33b83cead"
      },
      "execution_count": null,
      "outputs": [
        {
          "output_type": "stream",
          "name": "stdout",
          "text": [
            "{'name': 'Alice', 'age': 25}\n"
          ]
        }
      ]
    },
    {
      "cell_type": "markdown",
      "source": [
        "Lambda Function (Anonymous Function): A one-liner function using lambda.\n",
        "\n"
      ],
      "metadata": {
        "id": "8F5QFbDSfJwx"
      }
    },
    {
      "cell_type": "code",
      "source": [
        "square = lambda x: x * x\n",
        "print(square(5))  # Output: 25\n"
      ],
      "metadata": {
        "id": "7mjY6n3dfOwy",
        "colab": {
          "base_uri": "https://localhost:8080/"
        },
        "outputId": "742a6045-3e06-4753-bac5-f3a32768f449"
      },
      "execution_count": null,
      "outputs": [
        {
          "output_type": "stream",
          "name": "stdout",
          "text": [
            "25\n"
          ]
        }
      ]
    },
    {
      "cell_type": "markdown",
      "source": [
        "Recursive Function: A function that calls itself.\n",
        "\n"
      ],
      "metadata": {
        "id": "ZL9ENPAdfRCp"
      }
    },
    {
      "cell_type": "code",
      "source": [
        "def factorial(n):\n",
        "    return 1 if n == 0 else n * factorial(n - 1)\n",
        "print(factorial(5))  # Output: 120\n"
      ],
      "metadata": {
        "id": "PfaHZQIPfWLQ",
        "colab": {
          "base_uri": "https://localhost:8080/"
        },
        "outputId": "a4037ed6-47ea-4d99-d481-b975bb8b180a"
      },
      "execution_count": null,
      "outputs": [
        {
          "output_type": "stream",
          "name": "stdout",
          "text": [
            "120\n"
          ]
        }
      ]
    },
    {
      "cell_type": "markdown",
      "source": [
        "Que 4. . What is the purpose of the `return` statement in a Python function?\n",
        "\n",
        "Ans.The return statement in a Python function is used to send a value or result back to the caller, allowing the function to output data for further use. When return is executed, the function terminates, and the specified value is returned. If no return statement is provided, the function returns None by default.\n",
        "The return statement helps in storing function results, performing calculations, and passing values between functions. Multiple values can also be returned as a tuple:\n",
        "\n"
      ],
      "metadata": {
        "id": "_HIGgngmfZRX"
      }
    },
    {
      "cell_type": "code",
      "source": [
        "def add(a, b):\n",
        "    return a + b  # Returns the sum of a and b\n",
        "\n",
        "result = add(5, 3)\n",
        "print(result)  # Output: 8\n"
      ],
      "metadata": {
        "id": "JnAYgDw0fnqb",
        "colab": {
          "base_uri": "https://localhost:8080/"
        },
        "outputId": "cbf6cceb-a58d-482c-d27a-3511fcc18ea4"
      },
      "execution_count": null,
      "outputs": [
        {
          "output_type": "stream",
          "name": "stdout",
          "text": [
            "8\n"
          ]
        }
      ]
    },
    {
      "cell_type": "markdown",
      "source": [
        "Que 5.What are iterators in Python and how do they differ from iterables?\n",
        "\n",
        "Ans. 1.Iterable: An object that can be iterated over (e.g., lists, tuples, strings). It has the __iter__() method but does not track state.\n",
        "\n",
        "2.Iterator: An object that produces one element at a time using __next__() and remembers its state during iteration.\n",
        "All iterators are iterables, but not all iterables are iterators.\n",
        "Iterables need iter() to become an iterator, while iterators use next() to get the next value.\n",
        "Iterators are useful for handling large datasets efficiently, as they generate elements on demand rather than storing them in memory.\n",
        "\n",
        "\n",
        "\n",
        "\n",
        "\n",
        "\n"
      ],
      "metadata": {
        "id": "Qvej-658f2IQ"
      }
    },
    {
      "cell_type": "code",
      "source": [
        "my_list = [1, 2, 3, 4]\n",
        "for item in my_list:\n",
        "    print(item)\n"
      ],
      "metadata": {
        "colab": {
          "base_uri": "https://localhost:8080/"
        },
        "id": "7lWCAlm800yC",
        "outputId": "1e14fd87-5d20-418c-f523-ef68e29b734e"
      },
      "execution_count": null,
      "outputs": [
        {
          "output_type": "stream",
          "name": "stdout",
          "text": [
            "1\n",
            "2\n",
            "3\n",
            "4\n"
          ]
        }
      ]
    },
    {
      "cell_type": "code",
      "source": [
        "my_list = [1, 2, 3, 4]\n",
        "my_iterator = iter(my_list)  # Get an iterator from the iterable\n",
        "\n",
        "print(next(my_iterator))  # Output: 1\n",
        "print(next(my_iterator))  # Output: 2\n",
        "print(next(my_iterator))  # Output: 3\n",
        "print(next(my_iterator))  # Output: 4\n",
        "# Calling next() again would raise StopIteration\n"
      ],
      "metadata": {
        "colab": {
          "base_uri": "https://localhost:8080/"
        },
        "id": "WZIy79Ze1DZM",
        "outputId": "4e8dcc49-4a0a-4446-c754-12296a1eff97"
      },
      "execution_count": null,
      "outputs": [
        {
          "output_type": "stream",
          "name": "stdout",
          "text": [
            "1\n",
            "2\n",
            "3\n",
            "4\n"
          ]
        }
      ]
    },
    {
      "cell_type": "markdown",
      "source": [
        "Que 6.Explain the concept of generators in Python and how they are defined?\n",
        "\n",
        "Ans.A generator in Python is a special type of iterator that generates values on demand instead of storing them in memory. Generators are useful for handling large datasets efficiently. They are defined using functions with the yield keyword instead of return.\n",
        "\n",
        "When a generator function is called, it does not execute immediately but returns a generator object.\n",
        "The generator remembers its last execution state, allowing iteration using next().\n",
        "When yield is encountered, the function pauses, returning the yielded value, and resumes from where it left off when next() is called again.\n",
        "Once all values are yielded, calling next() raises a StopIteration exception.\n"
      ],
      "metadata": {
        "id": "EcM7ishog4FJ"
      }
    },
    {
      "cell_type": "code",
      "source": [
        "def simple_generator(n):\n",
        "    for i in range(n):\n",
        "        yield i\n",
        "\n",
        "# Create a generator object\n",
        "gen = simple_generator(5)\n",
        "\n",
        "# Iterate over the generator\n",
        "for value in gen:\n",
        "    print(value)\n",
        "# Output: 0, 1, 2, 3, 4\n"
      ],
      "metadata": {
        "colab": {
          "base_uri": "https://localhost:8080/"
        },
        "id": "qt2IqxHH1zCb",
        "outputId": "788ee491-38ca-42dd-97f1-1a01063ed4b7"
      },
      "execution_count": null,
      "outputs": [
        {
          "output_type": "stream",
          "name": "stdout",
          "text": [
            "0\n",
            "1\n",
            "2\n",
            "3\n",
            "4\n"
          ]
        }
      ]
    },
    {
      "cell_type": "markdown",
      "source": [
        "Ques 7.. What are the advantages of using generators over regular functions?\n",
        "\n",
        "Ans.Generators offer several advantages over regular functions in Python, including memory efficiency, lazy evaluation, and improved performance. They can handle infinite sequences and reduce memory consumption by generating values one by one. Generators simplify code with the `yield` statement, maintain their state between iterations automatically, and integrate seamlessly with Python's iterable-consuming functions. Additionally, they enhance readability, provide flexibility, and reduce memory footprint by generating items one at a time."
      ],
      "metadata": {
        "id": "9y5mJYEG2x3W"
      }
    },
    {
      "cell_type": "markdown",
      "source": [
        "Ques 8.What is a lambda function in Python and when is it typically used?\n",
        "\n",
        "Ans.A lambda function in Python is a small anonymous function defined using the lambda keyword. It can have any number of arguments, but it can only have one expression. The expression is evaluated and returned. Lambda functions are often used for short, simple operations."
      ],
      "metadata": {
        "id": "sX9pZZop3GSt"
      }
    },
    {
      "cell_type": "code",
      "source": [
        "# Lambda function to add two numbers\n",
        "add = lambda x, y: x + y\n",
        "\n",
        "# Using the lambda function\n",
        "result = add(3, 5)\n",
        "print(result)  # Output: 8\n"
      ],
      "metadata": {
        "colab": {
          "base_uri": "https://localhost:8080/"
        },
        "id": "MKgAVzm73Vgs",
        "outputId": "1714d266-0057-4560-c63b-c65d41b00210"
      },
      "execution_count": null,
      "outputs": [
        {
          "output_type": "stream",
          "name": "stdout",
          "text": [
            "8\n"
          ]
        }
      ]
    },
    {
      "cell_type": "markdown",
      "source": [
        "Ques 9.Explain the purpose and usage of the `map()` function in Python.\n",
        "\n",
        "Ans. The map() function in Python applies a specified function to each item in an iterable (like a list) and returns a map object. It's commonly used to transform or modify data in a concise and readable way."
      ],
      "metadata": {
        "id": "5y4Z_9qy4J-k"
      }
    },
    {
      "cell_type": "code",
      "source": [
        "numbers = [1, 2, 3, 4]\n",
        "squared = list(map(lambda x: x**2, numbers))\n",
        "print(squared)  # Output: [1, 4, 9, 16]\n"
      ],
      "metadata": {
        "colab": {
          "base_uri": "https://localhost:8080/"
        },
        "id": "z9XJ8wdG4TQU",
        "outputId": "2b984e59-3f44-4fa1-ff92-d6c07ed46765"
      },
      "execution_count": null,
      "outputs": [
        {
          "output_type": "stream",
          "name": "stdout",
          "text": [
            "[1, 4, 9, 16]\n"
          ]
        }
      ]
    },
    {
      "cell_type": "markdown",
      "source": [
        "Ques 10. What is the difference between `map()`, `reduce()`, and `filter()` functions in Python?\n",
        "\n",
        "Ans. map(), reduce(), and filter() are programming tools in Python that operate on iterables.\n",
        "\n",
        "1.   map(): Applies a function to all items in an iterable and returns a map object.\n"
      ],
      "metadata": {
        "id": "lA7deisq4jsl"
      }
    },
    {
      "cell_type": "code",
      "source": [
        "numbers = [1, 2, 3, 4]\n",
        "squared = list(map(lambda x: x**2, numbers))\n",
        "print(squared)  # Output: [1, 4, 9, 16]\n"
      ],
      "metadata": {
        "colab": {
          "base_uri": "https://localhost:8080/"
        },
        "id": "ag57g4P15NZ7",
        "outputId": "911b7b59-da84-4013-d6ea-268ca7aa5e67"
      },
      "execution_count": null,
      "outputs": [
        {
          "output_type": "stream",
          "name": "stdout",
          "text": [
            "[1, 4, 9, 16]\n"
          ]
        }
      ]
    },
    {
      "cell_type": "markdown",
      "source": [
        "2.filter(): Filters items in an iterable based on a function that returns True or False."
      ],
      "metadata": {
        "id": "HMJHmsQ85XRV"
      }
    },
    {
      "cell_type": "code",
      "source": [
        "numbers = [1, 2, 3, 4]\n",
        "even = list(filter(lambda x: x % 2 == 0, numbers))\n",
        "print(even)  # Output: [2, 4]\n"
      ],
      "metadata": {
        "colab": {
          "base_uri": "https://localhost:8080/"
        },
        "id": "P562RSUF5gR4",
        "outputId": "e02a2e6c-af43-4c3f-ba81-90ba14d591e7"
      },
      "execution_count": null,
      "outputs": [
        {
          "output_type": "stream",
          "name": "stdout",
          "text": [
            "[2, 4]\n"
          ]
        }
      ]
    },
    {
      "cell_type": "markdown",
      "source": [
        "3.reduce(): Applies a function cumulatively to the items of an iterable, reducing it to a single value. Note: reduce() is in the functools module."
      ],
      "metadata": {
        "id": "1O4Z_0gx5uK3"
      }
    },
    {
      "cell_type": "code",
      "source": [
        "from functools import reduce\n",
        "numbers = [1, 2, 3, 4]\n",
        "sum = reduce(lambda x, y: x + y, numbers)\n",
        "print(sum)  # Output: 10\n"
      ],
      "metadata": {
        "colab": {
          "base_uri": "https://localhost:8080/"
        },
        "id": "Nq1cABdj5uzg",
        "outputId": "969c706f-7501-4467-f759-b74958d9cbd5"
      },
      "execution_count": null,
      "outputs": [
        {
          "output_type": "stream",
          "name": "stdout",
          "text": [
            "10\n"
          ]
        }
      ]
    },
    {
      "cell_type": "markdown",
      "source": [
        "These functions help make our code more readable and concise."
      ],
      "metadata": {
        "id": "vPrXnEgC6Ig9"
      }
    },
    {
      "cell_type": "markdown",
      "source": [
        "Ques. 11  Using pen & Paper write the internal mechanism for sum operation using  reduce function on this given\n",
        "list:[47,11,42,13]\n"
      ],
      "metadata": {
        "id": "1htElkSQVcCW"
      }
    },
    {
      "cell_type": "markdown",
      "source": [
        "![FuncAssignment.jpg](data:image/jpeg;base64,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)"
      ],
      "metadata": {
        "id": "BK7jjA5BWdpg"
      }
    },
    {
      "cell_type": "markdown",
      "source": [
        "## Practical Questions"
      ],
      "metadata": {
        "id": "gzDlRIz5Woq7"
      }
    },
    {
      "cell_type": "code",
      "source": [
        "# Python function that takes a list of numbers as input and returns the sum of all even numbers in\n",
        "# the list.\n",
        "\n",
        "def sum_even_numbers(lis):\n",
        "  sum = 0\n",
        "  for i in lis:\n",
        "    if i%2 == 0:\n",
        "      sum += i\n",
        "  return sum\n",
        "\n",
        "number = [32,2,11,3,4,7]\n",
        "print(sum_even_numbers(number))\n",
        "\n"
      ],
      "metadata": {
        "colab": {
          "base_uri": "https://localhost:8080/"
        },
        "id": "Sh216iPoWve0",
        "outputId": "d2d73413-de8b-4ec3-dee3-95a70575141b"
      },
      "execution_count": null,
      "outputs": [
        {
          "output_type": "stream",
          "name": "stdout",
          "text": [
            "38\n"
          ]
        }
      ]
    },
    {
      "cell_type": "code",
      "source": [
        "#Python function that accepts a string and returns the reverse of that string.\n",
        "def rever_string(name):\n",
        "  return name[::-1]\n",
        "\n",
        "print(rever_string(\"Hulk\"))\n",
        "\n",
        "\n"
      ],
      "metadata": {
        "colab": {
          "base_uri": "https://localhost:8080/"
        },
        "id": "wbq4PCUsYFZc",
        "outputId": "bad151d4-a4f8-4971-ae56-dd870220b9d3"
      },
      "execution_count": null,
      "outputs": [
        {
          "output_type": "stream",
          "name": "stdout",
          "text": [
            "kluH\n"
          ]
        }
      ]
    },
    {
      "cell_type": "code",
      "source": [
        "# Python function that takes a list of integers and returns a new list containing the squares of\n",
        "# each number\n",
        "\n",
        "def square_num(lis1):\n",
        "  newLis = []\n",
        "  for i in lis1:\n",
        "    newLis.append(i**2)\n",
        "  return newLis\n",
        "\n",
        "number1 = [2,3,4,5,6,7,8]\n",
        "result = square_num(number1)\n",
        "print(result)\n"
      ],
      "metadata": {
        "colab": {
          "base_uri": "https://localhost:8080/"
        },
        "id": "8iWtNy-daUfq",
        "outputId": "4c19624a-da20-406a-ab35-733cf4af6de5"
      },
      "execution_count": null,
      "outputs": [
        {
          "output_type": "stream",
          "name": "stdout",
          "text": [
            "[4, 9, 16, 25, 36, 49, 64]\n"
          ]
        }
      ]
    },
    {
      "cell_type": "code",
      "source": [
        "# Python function that checks if a given number is prime or not from 1 to 200.\n",
        "def checkPrime(n):\n",
        "  if n<=1:\n",
        "    return False\n",
        "  for i in range(2,int(n**0.5)+1): #Check divisibility by all integers up to the square root of the number.\n",
        "    if n%i == 0:\n",
        "      return False\n",
        "  return True\n",
        "\n",
        "number = int(input(\"Enter a integer number between 1 to 200\"))\n",
        "result = checkPrime(number)\n",
        "if result:\n",
        "  print(f\"{number} is a prime number\")\n",
        "else:\n",
        "  print(f\"{number} is not a prime number\")\n"
      ],
      "metadata": {
        "colab": {
          "base_uri": "https://localhost:8080/"
        },
        "id": "8p8nyUF-bnBW",
        "outputId": "80c2ae6e-8f1f-4f7a-ce28-3c04645cf4cd"
      },
      "execution_count": null,
      "outputs": [
        {
          "output_type": "stream",
          "name": "stdout",
          "text": [
            "Enter a integer number between 1 to 2002\n",
            "2 is a prime number\n"
          ]
        }
      ]
    },
    {
      "cell_type": "code",
      "source": [
        "#  iterator function in Python that generates the Fibonacci sequence up to a specified number of\n",
        "# terms.\n",
        "\n",
        "def fibonacci_iterator(num):\n",
        "    a, b = 0, 1\n",
        "    current_term = 0\n",
        "    while current_term < num:\n",
        "        yield a\n",
        "        a, b = b, a + b\n",
        "        current_term += 1\n",
        "\n",
        "num = 10\n",
        "for number in fibonacci_iterator(num):\n",
        "    print(number)\n"
      ],
      "metadata": {
        "colab": {
          "base_uri": "https://localhost:8080/"
        },
        "id": "GhCaBnMBm-i1",
        "outputId": "e17aef3d-7585-474a-dfdf-1601bf01c82d"
      },
      "execution_count": null,
      "outputs": [
        {
          "output_type": "stream",
          "name": "stdout",
          "text": [
            "0\n",
            "1\n",
            "1\n",
            "2\n",
            "3\n",
            "5\n",
            "8\n",
            "13\n",
            "21\n",
            "34\n"
          ]
        }
      ]
    },
    {
      "cell_type": "code",
      "source": [
        "# generator function in Python that yields the powers of 2 up to a given exponent\n",
        "def powers_of_two(max_exponent):\n",
        "    for i in range(max_exponent + 1):\n",
        "        yield 2 ** i\n",
        "\n",
        "max_exponent = 10\n",
        "for value in powers_of_two(max_exponent):\n",
        "    print(value)\n"
      ],
      "metadata": {
        "colab": {
          "base_uri": "https://localhost:8080/"
        },
        "id": "3fTckq23oWpb",
        "outputId": "97021c66-decf-4c16-f618-909c0e3c5e2c"
      },
      "execution_count": null,
      "outputs": [
        {
          "output_type": "stream",
          "name": "stdout",
          "text": [
            "1\n",
            "2\n",
            "4\n",
            "8\n",
            "16\n",
            "32\n",
            "64\n",
            "128\n",
            "256\n",
            "512\n",
            "1024\n"
          ]
        }
      ]
    },
    {
      "cell_type": "code",
      "source": [
        "#  generator function that reads a file line by line and yields each line as a string.\n",
        "\n",
        "# I am learning these types of problem , still i am unable to solve this question"
      ],
      "metadata": {
        "id": "hwZKT4ZQqM_9"
      },
      "execution_count": 5,
      "outputs": []
    },
    {
      "cell_type": "code",
      "source": [
        "# Sample list of tuples\n",
        "list_of_tuples = [(1, 3), (4, 1), (2, 2), (5, 0)]\n",
        "sorted_list = sorted(list_of_tuples, key=lambda x: x[1])\n",
        "\n",
        "print(sorted_list)\n"
      ],
      "metadata": {
        "colab": {
          "base_uri": "https://localhost:8080/"
        },
        "id": "Np0yX6NHqoH8",
        "outputId": "cfbfe650-c238-4689-e528-5860915a1e88"
      },
      "execution_count": 4,
      "outputs": [
        {
          "output_type": "stream",
          "name": "stdout",
          "text": [
            "[(5, 0), (4, 1), (2, 2), (1, 3)]\n"
          ]
        }
      ]
    },
    {
      "cell_type": "code",
      "source": [
        "# Function to convert Celsius to Fahrenheit\n",
        "def celsius_to_fahrenheit(celsius):\n",
        "    return (celsius * 9/5) + 32\n",
        "\n",
        "celsiTemp = [0, 20, 37, 100]\n",
        "\n",
        "fahreTemp = list(map(celsius_to_fahrenheit, celsiTemp))\n",
        "\n",
        "print(fahreTemp)\n"
      ],
      "metadata": {
        "colab": {
          "base_uri": "https://localhost:8080/"
        },
        "id": "pVLwP7E8_DRq",
        "outputId": "0ae45672-9660-4ecc-aa97-36665bb103e3"
      },
      "execution_count": 3,
      "outputs": [
        {
          "output_type": "stream",
          "name": "stdout",
          "text": [
            "[32.0, 68.0, 98.6, 212.0]\n"
          ]
        }
      ]
    },
    {
      "cell_type": "code",
      "source": [
        "# Function to check if a character is not a vowel\n",
        "def notVowel(char):\n",
        "    vowels = 'aeiouAEIOU'\n",
        "    return char not in vowels\n",
        "\n",
        "input_string = \"Hello, World!\"\n",
        "result = ''.join(filter(notVowel, input_string)) # ''.join() is used to concatenate them into a new string.\n",
        "\n",
        "print(result)\n"
      ],
      "metadata": {
        "colab": {
          "base_uri": "https://localhost:8080/"
        },
        "id": "mkVWVij5_lf3",
        "outputId": "b27136c9-131c-404c-ad6c-3a2f4e3afb10"
      },
      "execution_count": 8,
      "outputs": [
        {
          "output_type": "stream",
          "name": "stdout",
          "text": [
            "Hll, Wrld!\n"
          ]
        }
      ]
    },
    {
      "cell_type": "code",
      "source": [
        "# Given data\n",
        "orders = [\n",
        "    (34587, \"Learning Python, Mark Lutz\", 4, 40.95),\n",
        "    (98762, \"Programming Python, Mark Lutz\", 5, 56.80),\n",
        "    (77226, \"Head First Python, Paul Barry\", 3, 32.95),\n",
        "    (88112, \"Einführung in Python3, Bernd Klein\", 3, 24.99)\n",
        "]\n",
        "\n",
        "updated_orders = list(map(lambda x: (x[0], x[2] * x[3] + (10 if x[2] * x[3] < 100 else 0)), orders))\n",
        "\n",
        "print(updated_orders)"
      ],
      "metadata": {
        "colab": {
          "base_uri": "https://localhost:8080/"
        },
        "id": "lW2isv4ACOFn",
        "outputId": "5fc948d7-12e0-4280-b80f-cea96b55ca41"
      },
      "execution_count": 10,
      "outputs": [
        {
          "output_type": "stream",
          "name": "stdout",
          "text": [
            "[(34587, 163.8), (98762, 284.0), (77226, 108.85000000000001), (88112, 84.97)]\n"
          ]
        }
      ]
    }
  ]
}